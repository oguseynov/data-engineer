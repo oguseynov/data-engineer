{
 "cells": [
  {
   "cell_type": "code",
   "execution_count": 5,
   "metadata": {},
   "outputs": [
    {
     "name": "stdout",
     "output_type": "stream",
     "text": [
      "Current spark version is 2.4.4\n"
     ]
    }
   ],
   "source": [
    "println(s\"Current spark version is ${spark.version}\")"
   ]
  },
  {
   "cell_type": "code",
   "execution_count": 6,
   "metadata": {},
   "outputs": [],
   "source": [
    "import org.apache.spark.sql.functions._"
   ]
  },
  {
   "cell_type": "code",
   "execution_count": 7,
   "metadata": {},
   "outputs": [
    {
     "name": "stdout",
     "output_type": "stream",
     "text": [
      "Total tweets in file: 1600000\n"
     ]
    },
    {
     "data": {
      "text/plain": [
       "dataSchema = StructType(StructField(target,IntegerType,true), StructField(id,LongType,true), StructField(raw_timestamp,StringType,true), StructField(query_status,StringType,true), StructField(author,StringType,true), StructField(tweet,StringType,true))\n",
       "dataPath = /home/jovyan/data/training.1600000.processed.noemoticon.csv\n",
       "raw_sentiment = [tweet: string]\n"
      ]
     },
     "metadata": {},
     "output_type": "display_data"
    },
    {
     "data": {
      "text/plain": [
       "[tweet: string]"
      ]
     },
     "execution_count": 7,
     "metadata": {},
     "output_type": "execute_result"
    }
   ],
   "source": [
    "import org.apache.spark.sql.types.{StructType, StructField, IntegerType, LongType, StringType}\n",
    "\n",
    "val dataSchema = new StructType()\n",
    "    .add(\"target\", IntegerType)\n",
    "    .add(\"id\", LongType)\n",
    "    .add(\"raw_timestamp\", StringType)\n",
    "    .add(\"query_status\", StringType)\n",
    "    .add(\"author\", StringType)\n",
    "    .add(\"tweet\", StringType)\n",
    "\n",
    "    \n",
    "val dataPath= \"/home/jovyan/data/training.1600000.processed.noemoticon.csv\"\n",
    "\n",
    "val raw_sentiment = spark.read\n",
    "    .format(\"csv\")\n",
    "    .option(\"header\",false)\n",
    "    .schema(dataSchema)\n",
    "    .load(dataPath)\n",
    "    .selectExpr(\"tweet\")\n",
    "\n",
    "println(s\"Total tweets in file: ${raw_sentiment.count}\")\n"
   ]
  },
  {
   "cell_type": "code",
   "execution_count": 14,
   "metadata": {},
   "outputs": [
    {
     "name": "stdout",
     "output_type": "stream",
     "text": [
      "Streaming started!\n"
     ]
    },
    {
     "data": {
      "text/plain": [
       "timer = java.util.Timer@5d41b6de\n",
       "task = $anon$1@400b916b\n"
      ]
     },
     "metadata": {},
     "output_type": "display_data"
    },
    {
     "data": {
      "text/plain": [
       "$anon$1@400b916b"
      ]
     },
     "execution_count": 14,
     "metadata": {},
     "output_type": "execute_result"
    },
    {
     "name": "stdout",
     "output_type": "stream",
     "text": [
      "2020-01-17T22:58:02.969Z - saved some data to the events stream!\n",
      "2020-01-17T22:58:08.572Z - saved some data to the events stream!\n",
      "2020-01-17T22:58:14.707Z - saved some data to the events stream!\n",
      "2020-01-17T22:58:21.348Z - saved some data to the events stream!\n",
      "2020-01-17T22:58:28.135Z - saved some data to the events stream!\n",
      "2020-01-17T22:58:34.115Z - saved some data to the events stream!\n",
      "2020-01-17T22:58:40.567Z - saved some data to the events stream!\n",
      "2020-01-17T22:58:47.452Z - saved some data to the events stream!\n",
      "2020-01-17T22:58:55.062Z - saved some data to the events stream!\n",
      "2020-01-17T22:59:02.202Z - saved some data to the events stream!\n",
      "2020-01-17T22:59:13.282Z - saved some data to the events stream!\n",
      "2020-01-17T22:59:22.707Z - saved some data to the events stream!\n",
      "2020-01-17T22:59:33.135Z - saved some data to the events stream!\n",
      "2020-01-17T22:59:46.282Z - saved some data to the events stream!\n",
      "2020-01-17T22:59:57.673Z - saved some data to the events stream!\n",
      "2020-01-17T23:00:10.153Z - saved some data to the events stream!\n",
      "2020-01-17T23:00:22.313Z - saved some data to the events stream!\n",
      "2020-01-17T23:00:38.672Z - saved some data to the events stream!\n",
      "2020-01-17T23:00:55.436Z - saved some data to the events stream!\n",
      "2020-01-17T23:01:12.957Z - saved some data to the events stream!\n",
      "2020-01-17T23:01:38.876Z - saved some data to the events stream!\n",
      "2020-01-17T23:01:58.133Z - saved some data to the events stream!\n",
      "2020-01-17T23:02:12.356Z - saved some data to the events stream!\n",
      "2020-01-17T23:02:31.910Z - saved some data to the events stream!\n",
      "2020-01-17T23:03:09.165Z - saved some data to the events stream!\n",
      "2020-01-17T23:03:39.944Z - saved some data to the events stream!\n",
      "2020-01-17T23:04:30.832Z - saved some data to the events stream!\n",
      "2020-01-17T23:05:19.655Z - saved some data to the events stream!\n",
      "2020-01-17T23:05:47.350Z - saved some data to the events stream!\n",
      "2020-01-17T23:05:51.470Z - saved some data to the events stream!\n",
      "2020-01-17T23:05:55.923Z - saved some data to the events stream!\n",
      "2020-01-17T23:06:00.310Z - saved some data to the events stream!\n",
      "2020-01-17T23:06:04.523Z - saved some data to the events stream!\n",
      "2020-01-17T23:06:08.822Z - saved some data to the events stream!\n",
      "2020-01-17T23:06:14.102Z - saved some data to the events stream!\n",
      "2020-01-17T23:06:19.211Z - saved some data to the events stream!\n",
      "2020-01-17T23:06:24.182Z - saved some data to the events stream!\n",
      "2020-01-17T23:06:28.839Z - saved some data to the events stream!\n",
      "2020-01-17T23:06:33.483Z - saved some data to the events stream!\n",
      "2020-01-17T23:06:38.235Z - saved some data to the events stream!\n",
      "2020-01-17T23:06:43.431Z - saved some data to the events stream!\n",
      "2020-01-17T23:06:48.868Z - saved some data to the events stream!\n",
      "2020-01-17T23:06:52.818Z - saved some data to the events stream!\n",
      "2020-01-17T23:06:56.687Z - saved some data to the events stream!\n",
      "2020-01-17T23:07:00.559Z - saved some data to the events stream!\n",
      "2020-01-17T23:07:04.457Z - saved some data to the events stream!\n",
      "2020-01-17T23:07:08.481Z - saved some data to the events stream!\n",
      "2020-01-17T23:07:12.452Z - saved some data to the events stream!\n",
      "2020-01-17T23:07:16.394Z - saved some data to the events stream!\n",
      "2020-01-17T23:07:20.180Z - saved some data to the events stream!\n",
      "2020-01-17T23:07:23.930Z - saved some data to the events stream!\n",
      "2020-01-17T23:07:27.651Z - saved some data to the events stream!\n",
      "2020-01-17T23:07:31.502Z - saved some data to the events stream!\n",
      "2020-01-17T23:07:35.312Z - saved some data to the events stream!\n",
      "2020-01-17T23:07:39.221Z - saved some data to the events stream!\n",
      "2020-01-17T23:07:43.129Z - saved some data to the events stream!\n",
      "2020-01-17T23:07:46.899Z - saved some data to the events stream!\n",
      "2020-01-17T23:07:50.688Z - saved some data to the events stream!\n",
      "2020-01-17T23:07:54.496Z - saved some data to the events stream!\n",
      "2020-01-17T23:07:58.337Z - saved some data to the events stream!\n",
      "2020-01-17T23:08:02.131Z - saved some data to the events stream!\n",
      "2020-01-17T23:08:06.023Z - saved some data to the events stream!\n",
      "2020-01-17T23:08:09.932Z - saved some data to the events stream!\n",
      "2020-01-17T23:08:13.773Z - saved some data to the events stream!\n",
      "2020-01-17T23:08:17.667Z - saved some data to the events stream!\n",
      "2020-01-17T23:08:21.522Z - saved some data to the events stream!\n",
      "2020-01-17T23:08:25.332Z - saved some data to the events stream!\n",
      "2020-01-17T23:08:29.113Z - saved some data to the events stream!\n",
      "2020-01-17T23:08:33.050Z - saved some data to the events stream!\n",
      "2020-01-17T23:08:36.861Z - saved some data to the events stream!\n",
      "2020-01-17T23:08:40.704Z - saved some data to the events stream!\n",
      "2020-01-17T23:08:44.674Z - saved some data to the events stream!\n",
      "2020-01-17T23:08:48.637Z - saved some data to the events stream!\n",
      "2020-01-17T23:08:52.518Z - saved some data to the events stream!\n",
      "2020-01-17T23:08:56.379Z - saved some data to the events stream!\n",
      "2020-01-17T23:09:00.316Z - saved some data to the events stream!\n",
      "2020-01-17T23:09:05.005Z - saved some data to the events stream!\n",
      "2020-01-17T23:09:13.139Z - saved some data to the events stream!\n",
      "2020-01-17T23:09:19.349Z - saved some data to the events stream!\n",
      "2020-01-17T23:09:25.794Z - saved some data to the events stream!\n"
     ]
    }
   ],
   "source": [
    "import java.util.{Calendar, Timer, TimerTask}\n",
    "\n",
    "val timer = new Timer()\n",
    "\n",
    "val task = new TimerTask {\n",
    "  def run(): Unit = {\n",
    "      val data = raw_sentiment.sample(fraction=0.00001,withReplacement=true)\n",
    "      data\n",
    "          .withColumn(\"timestamp\", current_timestamp())\n",
    "          .coalesce(1)\n",
    "          .write.format(\"json\").mode(\"append\")\n",
    "          .save(\"/home/jovyan/data/events-stream\")\n",
    "      println(s\"${Calendar.getInstance().toInstant} - saved some data to the events stream!\")\n",
    "  } \n",
    "}\n",
    "\n",
    "println(\"Streaming started!\")\n",
    "\n",
    "timer.schedule(task, 1000L, 1000L)"
   ]
  },
  {
   "cell_type": "code",
   "execution_count": 13,
   "metadata": {},
   "outputs": [
    {
     "data": {
      "text/plain": [
       "true"
      ]
     },
     "execution_count": 13,
     "metadata": {},
     "output_type": "execute_result"
    }
   ],
   "source": [
    "task.cancel()"
   ]
  },
  {
   "cell_type": "code",
   "execution_count": null,
   "metadata": {},
   "outputs": [],
   "source": []
  }
 ],
 "metadata": {
  "kernelspec": {
   "display_name": "Apache Toree - Scala",
   "language": "scala",
   "name": "apache_toree_scala"
  },
  "language_info": {
   "codemirror_mode": "text/x-scala",
   "file_extension": ".scala",
   "mimetype": "text/x-scala",
   "name": "scala",
   "pygments_lexer": "scala",
   "version": "2.11.12"
  }
 },
 "nbformat": 4,
 "nbformat_minor": 2
}
