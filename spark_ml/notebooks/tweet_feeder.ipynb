{
 "cells": [
  {
   "cell_type": "code",
   "execution_count": 4,
   "metadata": {},
   "outputs": [
    {
     "name": "stdout",
     "output_type": "stream",
     "text": [
      "Current spark version is 2.4.4\n"
     ]
    }
   ],
   "source": [
    "println(s\"Current spark version is ${spark.version}\")"
   ]
  },
  {
   "cell_type": "code",
   "execution_count": 5,
   "metadata": {},
   "outputs": [],
   "source": [
    "import org.apache.spark.sql.functions._"
   ]
  },
  {
   "cell_type": "code",
   "execution_count": 6,
   "metadata": {},
   "outputs": [
    {
     "name": "stdout",
     "output_type": "stream",
     "text": [
      "Total tweets in file: 1600000\n"
     ]
    },
    {
     "data": {
      "text/plain": [
       "dataSchema = StructType(StructField(target,IntegerType,true), StructField(id,LongType,true), StructField(raw_timestamp,StringType,true), StructField(query_status,StringType,true), StructField(author,StringType,true), StructField(tweet,StringType,true))\n",
       "dataPath = /home/jovyan/data/training.1600000.processed.noemoticon.csv\n",
       "raw_sentiment = [tweet: string]\n"
      ]
     },
     "metadata": {},
     "output_type": "display_data"
    },
    {
     "data": {
      "text/plain": [
       "[tweet: string]"
      ]
     },
     "execution_count": 6,
     "metadata": {},
     "output_type": "execute_result"
    }
   ],
   "source": [
    "import org.apache.spark.sql.types.{StructType, StructField, IntegerType, LongType, StringType}\n",
    "\n",
    "val dataSchema = new StructType()\n",
    "    .add(\"target\", IntegerType)\n",
    "    .add(\"id\", LongType)\n",
    "    .add(\"raw_timestamp\", StringType)\n",
    "    .add(\"query_status\", StringType)\n",
    "    .add(\"author\", StringType)\n",
    "    .add(\"tweet\", StringType)\n",
    "\n",
    "    \n",
    "val dataPath= \"/home/jovyan/data/training.1600000.processed.noemoticon.csv\"\n",
    "\n",
    "val raw_sentiment = spark.read\n",
    "    .format(\"csv\")\n",
    "    .option(\"header\",false)\n",
    "    .schema(dataSchema)\n",
    "    .load(dataPath)\n",
    "    .selectExpr(\"tweet\")\n",
    "\n",
    "println(s\"Total tweets in file: ${raw_sentiment.count}\")\n"
   ]
  },
  {
   "cell_type": "code",
   "execution_count": 17,
   "metadata": {},
   "outputs": [
    {
     "name": "stdout",
     "output_type": "stream",
     "text": [
      "Streaming started!\n"
     ]
    },
    {
     "data": {
      "text/plain": [
       "timer = java.util.Timer@4cf7d3a6\n",
       "task = $anon$1@547342ca\n"
      ]
     },
     "metadata": {},
     "output_type": "display_data"
    },
    {
     "data": {
      "text/plain": [
       "$anon$1@547342ca"
      ]
     },
     "execution_count": 17,
     "metadata": {},
     "output_type": "execute_result"
    },
    {
     "name": "stdout",
     "output_type": "stream",
     "text": [
      "2020-01-18T00:11:25.819Z - saved some data to the events stream!\n",
      "2020-01-18T00:11:32.967Z - saved some data to the events stream!\n",
      "2020-01-18T00:11:40.924Z - saved some data to the events stream!\n",
      "2020-01-18T00:11:48.244Z - saved some data to the events stream!\n",
      "2020-01-18T00:11:53.572Z - saved some data to the events stream!\n",
      "2020-01-18T00:11:58.239Z - saved some data to the events stream!\n",
      "2020-01-18T00:12:02.759Z - saved some data to the events stream!\n",
      "2020-01-18T00:12:07.018Z - saved some data to the events stream!\n",
      "2020-01-18T00:12:11.485Z - saved some data to the events stream!\n",
      "2020-01-18T00:12:15.484Z - saved some data to the events stream!\n",
      "2020-01-18T00:12:19.655Z - saved some data to the events stream!\n",
      "2020-01-18T00:12:23.884Z - saved some data to the events stream!\n",
      "2020-01-18T00:12:28.096Z - saved some data to the events stream!\n",
      "2020-01-18T00:12:32.645Z - saved some data to the events stream!\n",
      "2020-01-18T00:12:37.004Z - saved some data to the events stream!\n",
      "2020-01-18T00:12:41.003Z - saved some data to the events stream!\n",
      "2020-01-18T00:12:45.135Z - saved some data to the events stream!\n",
      "2020-01-18T00:12:49.452Z - saved some data to the events stream!\n",
      "2020-01-18T00:12:53.847Z - saved some data to the events stream!\n",
      "2020-01-18T00:12:57.976Z - saved some data to the events stream!\n",
      "2020-01-18T00:13:02.085Z - saved some data to the events stream!\n",
      "2020-01-18T00:13:06.532Z - saved some data to the events stream!\n",
      "2020-01-18T00:13:10.845Z - saved some data to the events stream!\n",
      "2020-01-18T00:13:15.224Z - saved some data to the events stream!\n",
      "2020-01-18T00:13:20.293Z - saved some data to the events stream!\n",
      "2020-01-18T00:13:28.324Z - saved some data to the events stream!\n",
      "2020-01-18T00:13:37.146Z - saved some data to the events stream!\n",
      "2020-01-18T00:13:44.363Z - saved some data to the events stream!\n",
      "2020-01-18T00:13:53.393Z - saved some data to the events stream!\n"
     ]
    }
   ],
   "source": [
    "import java.util.{Calendar, Timer, TimerTask}\n",
    "\n",
    "val timer = new Timer()\n",
    "\n",
    "val task = new TimerTask {\n",
    "  def run(): Unit = {\n",
    "      val data = raw_sentiment.sample(fraction=0.00001,withReplacement=true)\n",
    "      data\n",
    "          .coalesce(1)\n",
    "          .write.format(\"json\").mode(\"append\")\n",
    "          .save(\"/home/jovyan/data/events-stream\")\n",
    "      println(s\"${Calendar.getInstance().toInstant} - saved some data to the events stream!\")\n",
    "  } \n",
    "}\n",
    "\n",
    "println(\"Streaming started!\")\n",
    "\n",
    "timer.schedule(task, 1000L, 1000L)"
   ]
  },
  {
   "cell_type": "code",
   "execution_count": 16,
   "metadata": {},
   "outputs": [
    {
     "data": {
      "text/plain": [
       "true"
      ]
     },
     "execution_count": 16,
     "metadata": {},
     "output_type": "execute_result"
    }
   ],
   "source": [
    "task.cancel()"
   ]
  },
  {
   "cell_type": "code",
   "execution_count": null,
   "metadata": {},
   "outputs": [],
   "source": []
  }
 ],
 "metadata": {
  "kernelspec": {
   "display_name": "Apache Toree - Scala",
   "language": "scala",
   "name": "apache_toree_scala"
  },
  "language_info": {
   "codemirror_mode": "text/x-scala",
   "file_extension": ".scala",
   "mimetype": "text/x-scala",
   "name": "scala",
   "pygments_lexer": "scala",
   "version": "2.11.12"
  }
 },
 "nbformat": 4,
 "nbformat_minor": 2
}
