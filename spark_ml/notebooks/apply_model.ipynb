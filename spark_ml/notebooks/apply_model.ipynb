{
 "cells": [
  {
   "cell_type": "code",
   "execution_count": 1,
   "metadata": {},
   "outputs": [],
   "source": [
    "import org.apache.spark.sql.types.{StructType, StringType}\n",
    "import org.apache.spark.ml.{Pipeline, PipelineModel}\n",
    "import org.apache.spark.sql.functions._\n",
    "import org.apache.spark.sql.DataFrame\n",
    "import org.apache.spark.sql.types._"
   ]
  },
  {
   "cell_type": "code",
   "execution_count": 2,
   "metadata": {},
   "outputs": [
    {
     "name": "stdout",
     "output_type": "stream",
     "text": [
      "Current spark version is 2.4.4\n"
     ]
    }
   ],
   "source": [
    "println(s\"Current spark version is ${spark.version}\")"
   ]
  },
  {
   "cell_type": "code",
   "execution_count": 3,
   "metadata": {},
   "outputs": [
    {
     "data": {
      "text/plain": [
       "inputStreamPath = /home/jovyan/data/events-stream\n",
       "modelPath = /home/jovyan/models/spark-ml-model\n",
       "dataSchema = StructType(StructField(tweet,StringType,true))\n",
       "inputDF = [tweet: string, timestamp: timestamp]\n"
      ]
     },
     "metadata": {},
     "output_type": "display_data"
    },
    {
     "data": {
      "text/plain": [
       "[tweet: string, timestamp: timestamp]"
      ]
     },
     "execution_count": 3,
     "metadata": {},
     "output_type": "execute_result"
    }
   ],
   "source": [
    "val inputStreamPath = \"/home/jovyan/data/events-stream\"\n",
    "val modelPath = \"/home/jovyan/models/spark-ml-model\"\n",
    "\n",
    "val dataSchema = new StructType()\n",
    "    .add(\"tweet\", StringType)\n",
    "\n",
    "val inputDF = spark\n",
    "    .readStream\n",
    "    .schema(dataSchema)\n",
    "    .option(\"maxFilesPerTrigger\", 1)\n",
    "    .json(inputStreamPath)\n",
    "    .withColumn(\"timestamp\", lit(current_timestamp()))"
   ]
  },
  {
   "cell_type": "code",
   "execution_count": 4,
   "metadata": {},
   "outputs": [
    {
     "data": {
      "text/plain": [
       "model = pipeline_3dfeba337f5a\n"
      ]
     },
     "metadata": {},
     "output_type": "display_data"
    },
    {
     "data": {
      "text/plain": [
       "pipeline_3dfeba337f5a"
      ]
     },
     "execution_count": 4,
     "metadata": {},
     "output_type": "execute_result"
    }
   ],
   "source": [
    "val model = PipelineModel.load(\"/home/jovyan/models/spark-ml-model\")"
   ]
  },
  {
   "cell_type": "code",
   "execution_count": 5,
   "metadata": {},
   "outputs": [
    {
     "data": {
      "text/plain": [
       "predictionsDF = [tweet: string, timestamp: timestamp ... 6 more fields]\n"
      ]
     },
     "metadata": {},
     "output_type": "display_data"
    },
    {
     "data": {
      "text/plain": [
       "[tweet: string, timestamp: timestamp ... 6 more fields]"
      ]
     },
     "execution_count": 5,
     "metadata": {},
     "output_type": "execute_result"
    }
   ],
   "source": [
    "val predictionsDF = model.transform(inputDF)"
   ]
  },
  {
   "cell_type": "code",
   "execution_count": 6,
   "metadata": {},
   "outputs": [
    {
     "data": {
      "text/plain": [
       "getProbability = UserDefinedFunction(<function1>,DoubleType,Some(List(org.apache.spark.ml.linalg.VectorUDT@3bfc3ba7)))\n"
      ]
     },
     "metadata": {},
     "output_type": "display_data"
    },
    {
     "data": {
      "text/plain": [
       "UserDefinedFunction(<function1>,DoubleType,Some(List(org.apache.spark.ml.linalg.VectorUDT@3bfc3ba7)))"
      ]
     },
     "execution_count": 6,
     "metadata": {},
     "output_type": "execute_result"
    }
   ],
   "source": [
    "import org.apache.spark.sql.functions._\n",
    "val getProbability = udf((prediction: org.apache.spark.ml.linalg.Vector) => prediction(1))"
   ]
  },
  {
   "cell_type": "code",
   "execution_count": 7,
   "metadata": {
    "scrolled": true
   },
   "outputs": [
    {
     "name": "stdout",
     "output_type": "stream",
     "text": [
      "+-------------------+\n",
      "|  clean_probability|\n",
      "+-------------------+\n",
      "|  0.506119085226794|\n",
      "|0.44409918165014944|\n",
      "|0.49065237891017643|\n",
      "| 0.5115763550216391|\n",
      "| 0.5021846446881393|\n",
      "|0.48400688875371084|\n",
      "|  0.506119085226794|\n",
      "| 0.5095230413582319|\n",
      "| 0.4984422398503117|\n",
      "| 0.5115763550216391|\n",
      "| 0.5594890772238319|\n",
      "| 0.5115763550216391|\n",
      "|0.44409918165014944|\n",
      "| 0.5115763550216391|\n",
      "+-------------------+\n",
      "\n",
      "+--------------------+----------+-----+\n",
      "|              window|prediction|count|\n",
      "+--------------------+----------+-----+\n",
      "|[2020-01-18 00:22...|       0.0|    5|\n",
      "|[2020-01-18 00:22...|       1.0|    9|\n",
      "+--------------------+----------+-----+\n",
      "\n",
      "+-------------------+\n",
      "|  clean_probability|\n",
      "+-------------------+\n",
      "| 0.5115763550216391|\n",
      "| 0.4905517026720463|\n",
      "|0.49689532645289997|\n",
      "| 0.4967273748932942|\n",
      "|0.45120694313256016|\n",
      "| 0.4822831864339756|\n",
      "| 0.4040311500186379|\n",
      "|  0.506119085226794|\n",
      "| 0.4890505295168118|\n",
      "| 0.4697388308104415|\n",
      "| 0.4441067980176852|\n",
      "| 0.5372391189877216|\n",
      "|0.47391484143806395|\n",
      "|  0.506119085226794|\n",
      "| 0.5053858466280851|\n",
      "| 0.5021846446881393|\n",
      "+-------------------+\n",
      "\n",
      "+--------------------+----------+-----+\n",
      "|              window|prediction|count|\n",
      "+--------------------+----------+-----+\n",
      "|[2020-01-18 00:22...|       0.0|   10|\n",
      "|[2020-01-18 00:22...|       1.0|    6|\n",
      "+--------------------+----------+-----+\n",
      "\n",
      "+-------------------+\n",
      "|  clean_probability|\n",
      "+-------------------+\n",
      "|0.44409918165014944|\n",
      "|0.47814937779047684|\n",
      "| 0.5115763550216391|\n",
      "| 0.5115763550216391|\n",
      "| 0.5204765089534942|\n",
      "| 0.5305879579142514|\n",
      "| 0.4953997000293138|\n",
      "|0.44955645144499445|\n",
      "| 0.5223154403923006|\n",
      "| 0.5068339659549655|\n",
      "| 0.5115763550216391|\n",
      "| 0.5115763550216391|\n",
      "| 0.5642377052119623|\n",
      "+-------------------+\n",
      "\n",
      "+--------------------+----------+-----+\n",
      "|              window|prediction|count|\n",
      "+--------------------+----------+-----+\n",
      "|[2020-01-18 00:22...|       0.0|    4|\n",
      "|[2020-01-18 00:22...|       1.0|    9|\n",
      "+--------------------+----------+-----+\n",
      "\n",
      "+-------------------+\n",
      "|  clean_probability|\n",
      "+-------------------+\n",
      "|0.43065506498062706|\n",
      "| 0.5020666788907716|\n",
      "| 0.4850331154740216|\n",
      "|0.46019280902930204|\n",
      "| 0.5043358165073178|\n",
      "| 0.5028892889891051|\n",
      "| 0.5042998539611688|\n",
      "| 0.4953997000293138|\n",
      "| 0.5115763550216391|\n",
      "| 0.5115763550216391|\n",
      "| 0.5115763550216391|\n",
      "| 0.5204765089534942|\n",
      "| 0.5385271954132939|\n",
      "+-------------------+\n",
      "\n",
      "+--------------------+----------+-----+\n",
      "|              window|prediction|count|\n",
      "+--------------------+----------+-----+\n",
      "|[2020-01-18 00:22...|       0.0|    4|\n",
      "|[2020-01-18 00:22...|       1.0|    9|\n",
      "+--------------------+----------+-----+\n",
      "\n",
      "+-------------------+\n",
      "|  clean_probability|\n",
      "+-------------------+\n",
      "|0.44955645144499445|\n",
      "| 0.5182031702773544|\n",
      "| 0.4390023330524043|\n",
      "| 0.4850944328772012|\n",
      "|0.44409918165014944|\n",
      "| 0.4966278802869322|\n",
      "|0.44010010485350415|\n",
      "| 0.5095230413582319|\n",
      "| 0.4844679086450901|\n",
      "| 0.4662135833681075|\n",
      "| 0.5236604400721994|\n",
      "|0.49086827904603486|\n",
      "| 0.5115763550216391|\n",
      "| 0.5305879579142514|\n",
      "|0.49674076275664925|\n",
      "+-------------------+\n",
      "\n",
      "+--------------------+----------+-----+\n",
      "|              window|prediction|count|\n",
      "+--------------------+----------+-----+\n",
      "|[2020-01-18 00:22...|       0.0|   10|\n",
      "|[2020-01-18 00:22...|       1.0|    5|\n",
      "+--------------------+----------+-----+\n",
      "\n",
      "+-------------------+\n",
      "|  clean_probability|\n",
      "+-------------------+\n",
      "|0.46571175919365926|\n",
      "|0.48701127465081023|\n",
      "| 0.5115763550216391|\n",
      "|0.43409476173192985|\n",
      "|0.49674076275664925|\n",
      "| 0.5439844652081389|\n",
      "| 0.5095618572557075|\n",
      "| 0.5115763550216391|\n",
      "| 0.5115763550216391|\n",
      "|  0.480477916181103|\n",
      "+-------------------+\n",
      "\n",
      "+--------------------+----------+-----+\n",
      "|              window|prediction|count|\n",
      "+--------------------+----------+-----+\n",
      "|[2020-01-18 00:22...|       0.0|    5|\n",
      "|[2020-01-18 00:22...|       1.0|    5|\n",
      "+--------------------+----------+-----+\n",
      "\n",
      "+-------------------+\n",
      "|  clean_probability|\n",
      "+-------------------+\n",
      "| 0.5629960681007511|\n",
      "|  0.506119085226794|\n",
      "| 0.4850944328772012|\n",
      "|0.44955645144499445|\n",
      "|0.44409918165014944|\n",
      "| 0.5245404655708092|\n",
      "| 0.5115763550216391|\n",
      "| 0.5115763550216391|\n",
      "| 0.5115763550216391|\n",
      "| 0.4233753765344496|\n",
      "|  0.506119085226794|\n",
      "+-------------------+\n",
      "\n"
     ]
    },
    {
     "data": {
      "text/plain": [
       "Name: java.lang.InterruptedException\n",
       "Message: null\n",
       "StackTrace:   at java.lang.Object.wait(Native Method)\n",
       "  at org.apache.spark.sql.streaming.StreamingQueryManager.awaitAnyTermination(StreamingQueryManager.scala:122)"
      ]
     },
     "execution_count": 7,
     "metadata": {},
     "output_type": "execute_result"
    }
   ],
   "source": [
    "predictionsDF.writeStream.foreachBatch { (batchDF: DataFrame, batchId: Long) =>\n",
    "    batchDF.persist()\n",
    "    \n",
    "    val cleanProbability = batchDF.select(getProbability($\"probability\").alias(\"clean_probability\"))\n",
    "    cleanProbability.write.mode(\"append\").format(\"console\").save()\n",
    "    \n",
    "    val windowCount = batchDF\n",
    "        .withWatermark(\"timestamp\", \"20 seconds\")\n",
    "        .groupBy(window($\"timestamp\", \"1 minute\", \"1 minute\"), $\"prediction\")\n",
    "        .count()\n",
    "    windowCount.write.mode(\"append\").format(\"console\").save()\n",
    "    \n",
    "    batchDF.unpersist()\n",
    "}.start()\n",
    "\n",
    "spark.streams.awaitAnyTermination()"
   ]
  }
 ],
 "metadata": {
  "kernelspec": {
   "display_name": "Apache Toree - Scala",
   "language": "scala",
   "name": "apache_toree_scala"
  },
  "language_info": {
   "codemirror_mode": "text/x-scala",
   "file_extension": ".scala",
   "mimetype": "text/x-scala",
   "name": "scala",
   "pygments_lexer": "scala",
   "version": "2.11.12"
  }
 },
 "nbformat": 4,
 "nbformat_minor": 2
}
